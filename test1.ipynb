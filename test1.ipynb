{
  "nbformat": 4,
  "nbformat_minor": 0,
  "metadata": {
    "colab": {
      "name": "test1.ipynb",
      "provenance": [],
      "include_colab_link": true
    },
    "language_info": {
      "name": "python"
    },
    "kernelspec": {
      "name": "python3",
      "display_name": "Python 3"
    }
  },
  "cells": [
    {
      "cell_type": "markdown",
      "metadata": {
        "id": "view-in-github",
        "colab_type": "text"
      },
      "source": [
        "<a href=\"https://colab.research.google.com/github/mimitung/testing/blob/main/test1.ipynb\" target=\"_parent\"><img src=\"https://colab.research.google.com/assets/colab-badge.svg\" alt=\"Open In Colab\"/></a>"
      ]
    },
    {
      "cell_type": "code",
      "metadata": {
        "colab": {
          "base_uri": "https://localhost:8080/"
        },
        "id": "MS11Phrh6tX4",
        "outputId": "8fcdb684-310f-4ff1-ae2a-dc8e813b003b"
      },
      "source": [
        "import datetime\n",
        "Pstart =datetime.datetime.now()\n",
        "file_name =  str(Pstart.year)+'_'+str(Pstart.month)+'_'+str(Pstart.day)+'_'\n",
        "print(str(Pstart.year)+'-'+str(Pstart.month)+'-'+str(Pstart.day)+'-'+str(Pstart.hour)+':'+str(Pstart.minute)+':'+str(Pstart.second))\n"
      ],
      "execution_count": 1,
      "outputs": [
        {
          "output_type": "stream",
          "name": "stdout",
          "text": [
            "2021-11-30-8:16:55\n"
          ]
        }
      ]
    }
  ]
}